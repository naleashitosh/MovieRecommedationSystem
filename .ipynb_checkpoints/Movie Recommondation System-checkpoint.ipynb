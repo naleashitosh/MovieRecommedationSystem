{
 "cells": [
  {
   "cell_type": "markdown",
   "id": "4b5e824c",
   "metadata": {},
   "source": [
    "# Movie Recommendation system"
   ]
  },
  {
   "cell_type": "markdown",
   "id": "00dc8edd",
   "metadata": {},
   "source": [
    "```\n",
    "Recommendation system types\n",
    "1. Content Based\n",
    "2. Collaborative Based\n",
    "3. Hybrid Based\n",
    "```"
   ]
  },
  {
   "cell_type": "code",
   "execution_count": 1,
   "id": "c0624115",
   "metadata": {},
   "outputs": [],
   "source": [
    "import pandas as pd \n",
    "import numpy as np\n",
    "import ast"
   ]
  },
  {
   "cell_type": "code",
   "execution_count": 2,
   "id": "aa9aa2fb",
   "metadata": {},
   "outputs": [],
   "source": [
    "movies = pd.read_csv('tmdb_5000_movies.csv')\n",
    "credits = pd.read_csv('tmdb_5000_credits.csv')"
   ]
  },
  {
   "cell_type": "code",
   "execution_count": 3,
   "id": "ae15bb0e",
   "metadata": {},
   "outputs": [
    {
     "data": {
      "text/html": [
       "<div>\n",
       "<style scoped>\n",
       "    .dataframe tbody tr th:only-of-type {\n",
       "        vertical-align: middle;\n",
       "    }\n",
       "\n",
       "    .dataframe tbody tr th {\n",
       "        vertical-align: top;\n",
       "    }\n",
       "\n",
       "    .dataframe thead th {\n",
       "        text-align: right;\n",
       "    }\n",
       "</style>\n",
       "<table border=\"1\" class=\"dataframe\">\n",
       "  <thead>\n",
       "    <tr style=\"text-align: right;\">\n",
       "      <th></th>\n",
       "      <th>budget</th>\n",
       "      <th>genres</th>\n",
       "      <th>homepage</th>\n",
       "      <th>id</th>\n",
       "      <th>keywords</th>\n",
       "      <th>original_language</th>\n",
       "      <th>original_title</th>\n",
       "      <th>overview</th>\n",
       "      <th>popularity</th>\n",
       "      <th>production_companies</th>\n",
       "      <th>production_countries</th>\n",
       "      <th>release_date</th>\n",
       "      <th>revenue</th>\n",
       "      <th>runtime</th>\n",
       "      <th>spoken_languages</th>\n",
       "      <th>status</th>\n",
       "      <th>tagline</th>\n",
       "      <th>title</th>\n",
       "      <th>vote_average</th>\n",
       "      <th>vote_count</th>\n",
       "    </tr>\n",
       "  </thead>\n",
       "  <tbody>\n",
       "    <tr>\n",
       "      <th>4290</th>\n",
       "      <td>1200000</td>\n",
       "      <td>[{\"id\": 18, \"name\": \"Drama\"}]</td>\n",
       "      <td>NaN</td>\n",
       "      <td>1412</td>\n",
       "      <td>[{\"id\": 459, \"name\": \"sexual obsession\"}, {\"id...</td>\n",
       "      <td>en</td>\n",
       "      <td>Sex, Lies, and Videotape</td>\n",
       "      <td>A sexually repressed woman's husband is having...</td>\n",
       "      <td>10.869492</td>\n",
       "      <td>[{\"name\": \"Miramax Films\", \"id\": 14}, {\"name\":...</td>\n",
       "      <td>[{\"iso_3166_1\": \"US\", \"name\": \"United States o...</td>\n",
       "      <td>1989-08-18</td>\n",
       "      <td>0</td>\n",
       "      <td>100.0</td>\n",
       "      <td>[{\"iso_639_1\": \"en\", \"name\": \"English\"}]</td>\n",
       "      <td>Released</td>\n",
       "      <td>NaN</td>\n",
       "      <td>Sex, Lies, and Videotape</td>\n",
       "      <td>6.7</td>\n",
       "      <td>185</td>\n",
       "    </tr>\n",
       "  </tbody>\n",
       "</table>\n",
       "</div>"
      ],
      "text/plain": [
       "       budget                         genres homepage    id  \\\n",
       "4290  1200000  [{\"id\": 18, \"name\": \"Drama\"}]      NaN  1412   \n",
       "\n",
       "                                               keywords original_language  \\\n",
       "4290  [{\"id\": 459, \"name\": \"sexual obsession\"}, {\"id...                en   \n",
       "\n",
       "                original_title  \\\n",
       "4290  Sex, Lies, and Videotape   \n",
       "\n",
       "                                               overview  popularity  \\\n",
       "4290  A sexually repressed woman's husband is having...   10.869492   \n",
       "\n",
       "                                   production_companies  \\\n",
       "4290  [{\"name\": \"Miramax Films\", \"id\": 14}, {\"name\":...   \n",
       "\n",
       "                                   production_countries release_date  revenue  \\\n",
       "4290  [{\"iso_3166_1\": \"US\", \"name\": \"United States o...   1989-08-18        0   \n",
       "\n",
       "      runtime                          spoken_languages    status tagline  \\\n",
       "4290    100.0  [{\"iso_639_1\": \"en\", \"name\": \"English\"}]  Released     NaN   \n",
       "\n",
       "                         title  vote_average  vote_count  \n",
       "4290  Sex, Lies, and Videotape           6.7         185  "
      ]
     },
     "execution_count": 3,
     "metadata": {},
     "output_type": "execute_result"
    }
   ],
   "source": [
    "movies.sample(1)"
   ]
  },
  {
   "cell_type": "code",
   "execution_count": 4,
   "id": "c60a86c1",
   "metadata": {},
   "outputs": [],
   "source": [
    "movies = movies.merge(credits, on = 'title')"
   ]
  },
  {
   "cell_type": "code",
   "execution_count": 5,
   "id": "a829d8e3",
   "metadata": {},
   "outputs": [
    {
     "data": {
      "text/plain": [
       "Index(['budget', 'genres', 'homepage', 'id', 'keywords', 'original_language',\n",
       "       'original_title', 'overview', 'popularity', 'production_companies',\n",
       "       'production_countries', 'release_date', 'revenue', 'runtime',\n",
       "       'spoken_languages', 'status', 'tagline', 'title', 'vote_average',\n",
       "       'vote_count', 'movie_id', 'cast', 'crew'],\n",
       "      dtype='object')"
      ]
     },
     "execution_count": 5,
     "metadata": {},
     "output_type": "execute_result"
    }
   ],
   "source": [
    "movies.columns"
   ]
  },
  {
   "cell_type": "markdown",
   "id": "5761fadd",
   "metadata": {},
   "source": [
    "```\n",
    "Droping columns : \n",
    "    Budgets\n",
    "    Homepage\n",
    "    original title\n",
    "    production companies\n",
    "    production countries\n",
    "    movie id\n",
    "```"
   ]
  },
  {
   "cell_type": "code",
   "execution_count": 6,
   "id": "e473e40a",
   "metadata": {},
   "outputs": [],
   "source": [
    "movies.drop(['budget','homepage',\n",
    "       'original_title','production_companies',\n",
    "       'production_countries','movie_id','revenue'],axis = 1,inplace=True)"
   ]
  },
  {
   "cell_type": "code",
   "execution_count": 7,
   "id": "64efd6a0",
   "metadata": {},
   "outputs": [],
   "source": [
    "def converter(lst):\n",
    "    ls = []\n",
    "    for i in ast.literal_eval(lst):\n",
    "        ls.append(i['name'])\n",
    "    return ls"
   ]
  },
  {
   "cell_type": "code",
   "execution_count": 8,
   "id": "e4e3c0f1",
   "metadata": {},
   "outputs": [],
   "source": [
    "movies.genres = movies.genres.apply(converter)"
   ]
  },
  {
   "cell_type": "code",
   "execution_count": 9,
   "id": "e7c7e4f5",
   "metadata": {},
   "outputs": [],
   "source": [
    "movies.keywords = movies.keywords.apply(converter)"
   ]
  },
  {
   "cell_type": "code",
   "execution_count": 10,
   "id": "df6c39ed",
   "metadata": {},
   "outputs": [],
   "source": [
    "def converter1(lst):\n",
    "    ls = []\n",
    "    for i in ast.literal_eval(lst):\n",
    "        ls.append(i['iso_639_1'])\n",
    "    return ls"
   ]
  },
  {
   "cell_type": "code",
   "execution_count": 11,
   "id": "d6138b96",
   "metadata": {},
   "outputs": [],
   "source": [
    "movies.spoken_languages = movies.spoken_languages.apply(converter1)"
   ]
  },
  {
   "cell_type": "code",
   "execution_count": 12,
   "id": "53a2a6b4",
   "metadata": {},
   "outputs": [],
   "source": [
    "movies.cast = movies.cast.apply(converter)"
   ]
  },
  {
   "cell_type": "code",
   "execution_count": 13,
   "id": "d2fbb653",
   "metadata": {},
   "outputs": [],
   "source": [
    "movies.cast = movies.cast.apply(lambda i : i[:4])"
   ]
  },
  {
   "cell_type": "code",
   "execution_count": 14,
   "id": "925b0f30",
   "metadata": {},
   "outputs": [],
   "source": [
    "def director(lst):\n",
    "    ls = []\n",
    "    for i in ast.literal_eval(lst):\n",
    "        if i['job'] == 'Director':\n",
    "            ls.append(i['name'])\n",
    "    return ls"
   ]
  },
  {
   "cell_type": "code",
   "execution_count": 15,
   "id": "b5a8bc98",
   "metadata": {},
   "outputs": [],
   "source": [
    "movies['director'] = movies.crew.apply(director)"
   ]
  },
  {
   "cell_type": "code",
   "execution_count": 16,
   "id": "daf1671f",
   "metadata": {},
   "outputs": [],
   "source": [
    "movies.overview = movies.overview.apply(lambda x : str(x).split())"
   ]
  },
  {
   "cell_type": "code",
   "execution_count": 17,
   "id": "f966e242",
   "metadata": {},
   "outputs": [],
   "source": [
    "movies.tagline = movies.tagline.apply(lambda x : str(x).split())"
   ]
  },
  {
   "cell_type": "code",
   "execution_count": 18,
   "id": "164c7d6a",
   "metadata": {},
   "outputs": [],
   "source": [
    "movies.genres = movies.genres.apply(lambda x : [i.replace(' ', '') for i in x] )"
   ]
  },
  {
   "cell_type": "code",
   "execution_count": 19,
   "id": "690fccdc",
   "metadata": {},
   "outputs": [],
   "source": [
    "movies.cast = movies.cast.apply(lambda x : [i.replace(' ', '') for i in x] )"
   ]
  },
  {
   "cell_type": "code",
   "execution_count": 20,
   "id": "161a5b66",
   "metadata": {},
   "outputs": [],
   "source": [
    "movies.director = movies.director.apply(lambda x : [i.replace(' ', '') for i in x] )\n",
    "movies.keywords = movies.keywords.apply(lambda x : [i.replace(' ', '') for i in x] )"
   ]
  },
  {
   "cell_type": "code",
   "execution_count": 21,
   "id": "9a5fc951",
   "metadata": {},
   "outputs": [],
   "source": [
    "movies.drop(['crew'],axis = 1,inplace=True)"
   ]
  },
  {
   "cell_type": "code",
   "execution_count": 22,
   "id": "497eb658",
   "metadata": {},
   "outputs": [
    {
     "data": {
      "text/html": [
       "<div>\n",
       "<style scoped>\n",
       "    .dataframe tbody tr th:only-of-type {\n",
       "        vertical-align: middle;\n",
       "    }\n",
       "\n",
       "    .dataframe tbody tr th {\n",
       "        vertical-align: top;\n",
       "    }\n",
       "\n",
       "    .dataframe thead th {\n",
       "        text-align: right;\n",
       "    }\n",
       "</style>\n",
       "<table border=\"1\" class=\"dataframe\">\n",
       "  <thead>\n",
       "    <tr style=\"text-align: right;\">\n",
       "      <th></th>\n",
       "      <th>genres</th>\n",
       "      <th>id</th>\n",
       "      <th>keywords</th>\n",
       "      <th>original_language</th>\n",
       "      <th>overview</th>\n",
       "      <th>popularity</th>\n",
       "      <th>release_date</th>\n",
       "      <th>runtime</th>\n",
       "      <th>spoken_languages</th>\n",
       "      <th>status</th>\n",
       "      <th>tagline</th>\n",
       "      <th>title</th>\n",
       "      <th>vote_average</th>\n",
       "      <th>vote_count</th>\n",
       "      <th>cast</th>\n",
       "      <th>director</th>\n",
       "    </tr>\n",
       "  </thead>\n",
       "  <tbody>\n",
       "    <tr>\n",
       "      <th>0</th>\n",
       "      <td>[Action, Adventure, Fantasy, ScienceFiction]</td>\n",
       "      <td>19995</td>\n",
       "      <td>[cultureclash, future, spacewar, spacecolony, ...</td>\n",
       "      <td>en</td>\n",
       "      <td>[In, the, 22nd, century,, a, paraplegic, Marin...</td>\n",
       "      <td>150.437577</td>\n",
       "      <td>2009-12-10</td>\n",
       "      <td>162.0</td>\n",
       "      <td>[en, es]</td>\n",
       "      <td>Released</td>\n",
       "      <td>[Enter, the, World, of, Pandora.]</td>\n",
       "      <td>Avatar</td>\n",
       "      <td>7.2</td>\n",
       "      <td>11800</td>\n",
       "      <td>[SamWorthington, ZoeSaldana, SigourneyWeaver, ...</td>\n",
       "      <td>[JamesCameron]</td>\n",
       "    </tr>\n",
       "  </tbody>\n",
       "</table>\n",
       "</div>"
      ],
      "text/plain": [
       "                                         genres     id  \\\n",
       "0  [Action, Adventure, Fantasy, ScienceFiction]  19995   \n",
       "\n",
       "                                            keywords original_language  \\\n",
       "0  [cultureclash, future, spacewar, spacecolony, ...                en   \n",
       "\n",
       "                                            overview  popularity release_date  \\\n",
       "0  [In, the, 22nd, century,, a, paraplegic, Marin...  150.437577   2009-12-10   \n",
       "\n",
       "   runtime spoken_languages    status                            tagline  \\\n",
       "0    162.0         [en, es]  Released  [Enter, the, World, of, Pandora.]   \n",
       "\n",
       "    title  vote_average  vote_count  \\\n",
       "0  Avatar           7.2       11800   \n",
       "\n",
       "                                                cast        director  \n",
       "0  [SamWorthington, ZoeSaldana, SigourneyWeaver, ...  [JamesCameron]  "
      ]
     },
     "execution_count": 22,
     "metadata": {},
     "output_type": "execute_result"
    }
   ],
   "source": [
    "movies.head(1)"
   ]
  },
  {
   "cell_type": "code",
   "execution_count": 23,
   "id": "89fcfae0",
   "metadata": {},
   "outputs": [],
   "source": [
    "movies['tags'] = movies.overview + movies.genres + movies.cast + movies.keywords + movies.director + movies.tagline"
   ]
  },
  {
   "cell_type": "code",
   "execution_count": 24,
   "id": "046ff334",
   "metadata": {},
   "outputs": [],
   "source": [
    "movies.drop(['overview','keywords','genres','cast','director','tagline'],axis = 1, inplace = True)"
   ]
  },
  {
   "cell_type": "code",
   "execution_count": 25,
   "id": "a567a912",
   "metadata": {},
   "outputs": [
    {
     "data": {
      "text/plain": [
       "'overview keywords genres cast director tagline'"
      ]
     },
     "execution_count": 25,
     "metadata": {},
     "output_type": "execute_result"
    }
   ],
   "source": [
    "' '.join(['overview','keywords','genres','cast','director','tagline'])"
   ]
  },
  {
   "cell_type": "code",
   "execution_count": 26,
   "id": "ad1bc1d3",
   "metadata": {},
   "outputs": [],
   "source": [
    "movies.tags = movies.tags.apply(lambda x: ' '.join(x))"
   ]
  },
  {
   "cell_type": "code",
   "execution_count": 27,
   "id": "d5cf7e28",
   "metadata": {},
   "outputs": [
    {
     "data": {
      "text/html": [
       "<div>\n",
       "<style scoped>\n",
       "    .dataframe tbody tr th:only-of-type {\n",
       "        vertical-align: middle;\n",
       "    }\n",
       "\n",
       "    .dataframe tbody tr th {\n",
       "        vertical-align: top;\n",
       "    }\n",
       "\n",
       "    .dataframe thead th {\n",
       "        text-align: right;\n",
       "    }\n",
       "</style>\n",
       "<table border=\"1\" class=\"dataframe\">\n",
       "  <thead>\n",
       "    <tr style=\"text-align: right;\">\n",
       "      <th></th>\n",
       "      <th>id</th>\n",
       "      <th>original_language</th>\n",
       "      <th>popularity</th>\n",
       "      <th>release_date</th>\n",
       "      <th>runtime</th>\n",
       "      <th>spoken_languages</th>\n",
       "      <th>status</th>\n",
       "      <th>title</th>\n",
       "      <th>vote_average</th>\n",
       "      <th>vote_count</th>\n",
       "      <th>tags</th>\n",
       "    </tr>\n",
       "  </thead>\n",
       "  <tbody>\n",
       "    <tr>\n",
       "      <th>0</th>\n",
       "      <td>19995</td>\n",
       "      <td>en</td>\n",
       "      <td>150.437577</td>\n",
       "      <td>2009-12-10</td>\n",
       "      <td>162.0</td>\n",
       "      <td>[en, es]</td>\n",
       "      <td>Released</td>\n",
       "      <td>Avatar</td>\n",
       "      <td>7.2</td>\n",
       "      <td>11800</td>\n",
       "      <td>In the 22nd century, a paraplegic Marine is di...</td>\n",
       "    </tr>\n",
       "  </tbody>\n",
       "</table>\n",
       "</div>"
      ],
      "text/plain": [
       "      id original_language  popularity release_date  runtime spoken_languages  \\\n",
       "0  19995                en  150.437577   2009-12-10    162.0         [en, es]   \n",
       "\n",
       "     status   title  vote_average  vote_count  \\\n",
       "0  Released  Avatar           7.2       11800   \n",
       "\n",
       "                                                tags  \n",
       "0  In the 22nd century, a paraplegic Marine is di...  "
      ]
     },
     "execution_count": 27,
     "metadata": {},
     "output_type": "execute_result"
    }
   ],
   "source": [
    "movies.head(1)"
   ]
  },
  {
   "cell_type": "code",
   "execution_count": 28,
   "id": "3f0d96be",
   "metadata": {},
   "outputs": [],
   "source": [
    "movies_n = movies[['id','title','tags']]"
   ]
  },
  {
   "cell_type": "code",
   "execution_count": 29,
   "id": "25cde495",
   "metadata": {},
   "outputs": [],
   "source": [
    "from sklearn.feature_extraction.text import CountVectorizer\n",
    "from sklearn.metrics.pairwise import cosine_similarity"
   ]
  },
  {
   "cell_type": "code",
   "execution_count": 30,
   "id": "5e4e6f33",
   "metadata": {},
   "outputs": [],
   "source": [
    "cv = CountVectorizer(max_features = 5000, stop_words = 'english')"
   ]
  },
  {
   "cell_type": "code",
   "execution_count": 31,
   "id": "df7c0dce",
   "metadata": {},
   "outputs": [],
   "source": [
    "vectors = cv.fit_transform(movies_n['tags']).toarray()"
   ]
  },
  {
   "cell_type": "code",
   "execution_count": 32,
   "id": "717b2b44",
   "metadata": {},
   "outputs": [],
   "source": [
    "from nltk.stem.porter import PorterStemmer\n",
    "ps = PorterStemmer()"
   ]
  },
  {
   "cell_type": "code",
   "execution_count": 33,
   "id": "d56d186e",
   "metadata": {},
   "outputs": [],
   "source": [
    "def stemmer(txt):\n",
    "    ls = []\n",
    "    for i in txt.split():\n",
    "        ls.append(ps.stem(i))\n",
    "    \n",
    "    return  \" \".join(ls)"
   ]
  },
  {
   "cell_type": "code",
   "execution_count": 34,
   "id": "72444a8f",
   "metadata": {},
   "outputs": [
    {
     "name": "stderr",
     "output_type": "stream",
     "text": [
      "C:\\Users\\USER\\AppData\\Local\\Temp\\ipykernel_7740\\478971174.py:1: SettingWithCopyWarning: \n",
      "A value is trying to be set on a copy of a slice from a DataFrame.\n",
      "Try using .loc[row_indexer,col_indexer] = value instead\n",
      "\n",
      "See the caveats in the documentation: https://pandas.pydata.org/pandas-docs/stable/user_guide/indexing.html#returning-a-view-versus-a-copy\n",
      "  movies_n.tags = movies_n.tags.apply(stemmer)\n"
     ]
    }
   ],
   "source": [
    "movies_n.tags = movies_n.tags.apply(stemmer)"
   ]
  },
  {
   "cell_type": "code",
   "execution_count": 35,
   "id": "99fcee90",
   "metadata": {},
   "outputs": [],
   "source": [
    "similarity = cosine_similarity(vectors)"
   ]
  },
  {
   "cell_type": "code",
   "execution_count": 36,
   "id": "f6a180a9",
   "metadata": {},
   "outputs": [],
   "source": [
    "def recommender(movie,n):\n",
    "    index = movies_n[movies_n.title == movie].index[0]\n",
    "    cos_sim = similarity[index]\n",
    "    index_ls = sorted(list(enumerate(cos_sim)),reverse=True,key=lambda x:x[1])[1:n+1]\n",
    "    \n",
    "    for i in index_ls:\n",
    "        print(movies_n.iloc[i[0]].title)"
   ]
  },
  {
   "cell_type": "code",
   "execution_count": 37,
   "id": "da61657a",
   "metadata": {},
   "outputs": [
    {
     "name": "stdout",
     "output_type": "stream",
     "text": [
      "The Dark Knight\n",
      "Batman\n",
      "The Dark Knight Rises\n",
      "Batman\n",
      "Batman & Robin\n",
      "Batman v Superman: Dawn of Justice\n",
      "Defendor\n",
      "Batman Forever\n",
      "Mi America\n",
      "Batman Returns\n"
     ]
    }
   ],
   "source": [
    " recommender('Batman Begins',10)"
   ]
  },
  {
   "cell_type": "code",
   "execution_count": 38,
   "id": "5f846d0d",
   "metadata": {},
   "outputs": [],
   "source": [
    "import pickle"
   ]
  },
  {
   "cell_type": "code",
   "execution_count": 39,
   "id": "cc27ea92",
   "metadata": {},
   "outputs": [],
   "source": [
    "pickle.dump(movies_n,open('movies.pkl','wb'))"
   ]
  },
  {
   "cell_type": "code",
   "execution_count": 40,
   "id": "4d5baf77",
   "metadata": {},
   "outputs": [
    {
     "data": {
      "text/plain": [
       "array(['Avatar', \"Pirates of the Caribbean: At World's End\", 'Spectre',\n",
       "       ..., 'Signed, Sealed, Delivered', 'Shanghai Calling',\n",
       "       'My Date with Drew'], dtype=object)"
      ]
     },
     "execution_count": 40,
     "metadata": {},
     "output_type": "execute_result"
    }
   ],
   "source": [
    "movies_n.title.values "
   ]
  },
  {
   "cell_type": "code",
   "execution_count": 41,
   "id": "379b8587",
   "metadata": {},
   "outputs": [],
   "source": [
    "pickle.dump(similarity,open('sim.pkl','wb')) "
   ]
  }
 ],
 "metadata": {
  "kernelspec": {
   "display_name": "Python 3 (ipykernel)",
   "language": "python",
   "name": "python3"
  },
  "language_info": {
   "codemirror_mode": {
    "name": "ipython",
    "version": 3
   },
   "file_extension": ".py",
   "mimetype": "text/x-python",
   "name": "python",
   "nbconvert_exporter": "python",
   "pygments_lexer": "ipython3",
   "version": "3.9.12"
  }
 },
 "nbformat": 4,
 "nbformat_minor": 5
}
